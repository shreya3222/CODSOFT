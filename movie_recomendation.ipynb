{
  "nbformat": 4,
  "nbformat_minor": 0,
  "metadata": {
    "colab": {
      "provenance": []
    },
    "kernelspec": {
      "name": "python3",
      "display_name": "Python 3"
    },
    "language_info": {
      "name": "python"
    }
  },
  "cells": [
    {
      "cell_type": "code",
      "execution_count": 1,
      "metadata": {
        "id": "8luXzNhYbd6u"
      },
      "outputs": [],
      "source": [
        "import numpy as np\n",
        "import pandas as pd\n",
        "import difflib\n",
        "from sklearn.feature_extraction.text import TfidfVectorizer\n",
        "from sklearn.metrics.pairwise import cosine_similarity\n",
        "\n"
      ]
    },
    {
      "cell_type": "code",
      "source": [
        "# loading the data from the csv file to apandas dataframe\n",
        "movies_data = pd.read_csv('/content/drive/MyDrive/movies.csv')\n",
        "\n",
        "# selecting the relevant features for recommendation\n",
        "\n",
        "selected_features = ['genres','keywords','tagline','cast','director']\n",
        "# replacing the null valuess with null string\n",
        "\n",
        "for feature in selected_features:\n",
        "  movies_data[feature] = movies_data[feature].fillna('')\n",
        "# combining all the 5 selected features\n",
        "\n",
        "combined_features = movies_data['genres']+' '+movies_data['keywords']+' '+movies_data['tagline']+' '+movies_data['cast']+' '+movies_data['director']\n",
        "\n",
        "#converting the text data to feature vectors\n",
        "vectorizer = TfidfVectorizer()\n",
        "feature_vectors = vectorizer.fit_transform(combined_features)\n",
        "# getting the similarity scores using cosine similarity\n",
        "\n",
        "similarity = cosine_similarity(feature_vectors)\n",
        "movie_name = input(' Enter your favourite movie name : ')\n",
        "\n",
        "list_of_all_titles = movies_data['title'].tolist()\n",
        "\n",
        "find_close_match = difflib.get_close_matches(movie_name, list_of_all_titles)\n",
        "\n",
        "close_match = find_close_match[0]\n",
        "\n",
        "index_of_the_movie = movies_data[movies_data.title == close_match]['index'].values[0]\n",
        "\n",
        "similarity_score = list(enumerate(similarity[index_of_the_movie]))\n",
        "\n",
        "sorted_similar_movies = sorted(similarity_score, key = lambda x:x[1], reverse = True)\n",
        "\n",
        "print('Movies suggested for you : \\n')\n",
        "\n",
        "i = 1\n",
        "\n",
        "for movie in sorted_similar_movies:\n",
        "  index = movie[0]\n",
        "  title_from_index = movies_data[movies_data.index==index]['title'].values[0]\n",
        "  if (i<30):\n",
        "    print(i, '.',title_from_index)\n",
        "    i+=1"
      ],
      "metadata": {
        "id": "d21c7dAecX7D"
      },
      "execution_count": null,
      "outputs": []
    }
  ]
}